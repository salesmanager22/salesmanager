{
 "cells": [
  {
   "cell_type": "code",
   "execution_count": 1,
   "id": "b8d60bd0",
   "metadata": {},
   "outputs": [
    {
     "name": "stderr",
     "output_type": "stream",
     "text": [
      "/var/folders/bl/xkh6r6jj2pvf9fdr22tpgg280000gn/T/ipykernel_19472/1256517549.py:1: DeprecationWarning: Importing display from IPython.core.display is deprecated since IPython 7.14, please import from IPython display\n",
      "  from IPython.core.display import display, HTML\n"
     ]
    },
    {
     "data": {
      "text/html": [
       "<style>.container { width:98% !important; }</style>"
      ],
      "text/plain": [
       "<IPython.core.display.HTML object>"
      ]
     },
     "metadata": {},
     "output_type": "display_data"
    }
   ],
   "source": [
    "from IPython.core.display import display, HTML\n",
    "display(HTML(\"<style>.container { width:98% !important; }</style>\"))"
   ]
  },
  {
   "cell_type": "code",
   "execution_count": 2,
   "id": "650b6253",
   "metadata": {},
   "outputs": [],
   "source": [
    "import pandas as pd\n",
    "import numpy as np\n",
    "pd.set_option('display.max_columns', None)\n",
    "coupang_fee = 0.1056\n",
    "coupang_extra_fee = 0.033 \n",
    "tmon_fee = 0.14 #임시\n",
    "tmon_fee_open = -0.08\n",
    "ohouse_fee = 0.15 #임시\n",
    "ohouse_special_price_fee = -0.05\n",
    "filename = 'data_1st.xlsx'\n",
    "#시간은 2022-03-01 00:07:34 형식으로 기입\n",
    "시작시간 = '2022-07-01 15:00:00'\n",
    "마감시간 = '2022-07-02 15:00:00'"
   ]
  },
  {
   "cell_type": "code",
   "execution_count": 3,
   "id": "559408c0",
   "metadata": {},
   "outputs": [
    {
     "name": "stdout",
     "output_type": "stream",
     "text": [
      "데이터 읽기 완료\n"
     ]
    }
   ],
   "source": [
    "naver_new = pd.read_excel(filename, sheet_name = '네이버 신버전')\n",
    "naver_new['판매채널'] = '네이버'\n",
    "naver_new['영문명'] = 'naver'\n",
    "naver_new = naver_new[[\"판매채널\", \"옵션관리코드\", \"결제일\", \"주문번호\", \"택배사\", \"송장번호\", \"수량\", \"상품가격\", \"옵션가격\", \"상품별 할인액\", \"판매자 부담 할인액\", \"상품별 총 주문금액\", \"네이버페이 주문관리 수수료\", \"매출연동 수수료\", \"정산예정금액\",\"구매자명\",\"수취인명\",\"수취인연락처1\",\"수취인연락처2\",\"우편번호\",\"통합배송지\",\"배송메세지\",\"주문번호\",\"상품명\",\"영문명\"]]\n",
    "naver_new_dict = {'옵션관리코드': '상품코드','결제일':'결제날짜','상품별 할인액':'상품별할인액', '판매자 부담 할인액':'판매자부담할인액','상품별 총 주문금액':'총주문금액','네이버페이 주문관리 수수료':'결제수수료','매출연동 수수료':'기타수수료','정산예정금액':'정산금액','구매자명':'주문자','수취인명':'받는분','수취인연락처1':'전화번호1','수취인연락처2':'전화번호2','통합배송지':'주소1','상품명':'판매상품명'}\n",
    "naver_new.rename(columns = naver_new_dict, inplace = True)\n",
    "# naver['결제수수료'] = naver['결제수수료'] * -1 #네이버는 수수료가 음수로 표현된다.\n",
    "# naver['기타수수료'] = naver['기타수수료'] * -1 #위와 같은 이유\n",
    "\n",
    "coupang = pd.read_excel(filename, sheet_name = '쿠팡')\n",
    "coupang['판매채널'] = '쿠팡'\n",
    "coupang['영문명'] = 'coupang'\n",
    "coupang['결제수수료'] = coupang['결제액'] * coupang_fee\n",
    "coupang['기타수수료'] = coupang['결제액'] * coupang_extra_fee\n",
    "coupang['정산금액'] = coupang['결제액'] - coupang['결제수수료'] - coupang['기타수수료']\n",
    "coupang['전화번호2'] = ''\n",
    "coupang['상품가격'] = ''\n",
    "coupang['옵션가격'] = ''\n",
    "coupang['상품별할인액'] = ''\n",
    "coupang['판매자부담할인액'] = ''\n",
    "coupang = coupang[['판매채널' ,'업체상품코드', '주문일', '주문번호', '택배사', '운송장번호', '구매수(수량)','상품가격','옵션가격','상품별할인액','판매자부담할인액', '결제액', '결제수수료', '기타수수료', '정산금액','구매자','수취인이름','수취인전화번호','전화번호2','우편번호','수취인 주소','배송메세지','주문번호','노출상품명(옵션명)','영문명']]\n",
    "coupang_dict = {'업체상품코드':'상품코드', '주문일':'결제날짜', '운송장번호':'송장번호', '구매수(수량)':'수량', '결제액':'총주문금액', '구매자':'주문자','수취인이름':'받는분','수취인전화번호':'전화번호1','수취인 주소':'주소1','노출상품명(옵션명)':'판매상품명'}\n",
    "coupang.rename(columns = coupang_dict, inplace = True)\n",
    "\n",
    "st11 = pd.read_excel(filename, sheet_name = '11번가')\n",
    "st11.fillna(0)\n",
    "st11 = st11.replace(',','', regex=True)\n",
    "st11_convert = {'판매자기본할인금액': float, '판매자 추가할인금액': float}\n",
    "st11 = st11.astype(st11_convert)\n",
    "st11['판매채널'] = '11번가'\n",
    "st11['영문명'] = '11st'\n",
    "st11['상품별할인액'] = st11['복수구매할인금액'] + st11['전고객할인금액']\n",
    "st11['판매자부담할인액'] = st11['판매자기본할인금액'] + st11['판매자 추가할인금액']\n",
    "st11['전화번호2'] = ''\n",
    "st11['기타수수료'] = ''\n",
    "st11 = st11[['판매채널','바코드','결제일시','주문번호','택배사코드','송장번호','수량','판매단가','옵션가','상품별할인액','판매자부담할인액','주문금액','서비스이용료','기타수수료','정산예정금액','구매자','수취인','휴대폰번호','전화번호2','우편번호','주소','배송메시지','주문번호','상품명','영문명']]\n",
    "st11_dict = {'바코드':'상품코드','결제일시':'결제날짜','택배사코드':'택배사','판매단가':'상품가격','옵션가':'옵션가격','주문금액':'총주문금액','서비스이용료':'결제수수료','정산예정금액':'정산금액','구매자':'주문자','수취인':'받는분','휴대폰번호':'전화번호1','주소':'주소1','배송메시지':'배송메세지','상품명':'판매상품명'}\n",
    "st11.rename(columns = st11_dict, inplace = True)\n",
    "\n",
    "print(\"데이터 읽기 완료\")"
   ]
  },
  {
   "cell_type": "code",
   "execution_count": 4,
   "id": "9d2929e2",
   "metadata": {},
   "outputs": [
    {
     "name": "stderr",
     "output_type": "stream",
     "text": [
      "/var/folders/bl/xkh6r6jj2pvf9fdr22tpgg280000gn/T/ipykernel_19472/1231312254.py:26: FutureWarning: Indexing with multiple keys (implicitly converted to a tuple of keys) will be deprecated, use a list instead.\n",
      "  채널별_정산 = total.groupby(['월','판매채널'])['총주문금액','정산금액'].apply(lambda x : x.astype(float).sum())\n"
     ]
    }
   ],
   "source": [
    "total = pd.concat([naver_new, coupang, st11], axis = 0)\n",
    "total['결제날짜'] = total['결제날짜'].astype('datetime64')\n",
    "total['총주문금액'] = total['총주문금액'].astype(float)\n",
    "total['정산금액'] = total.정산금액.replace({\",\":\"\"}, regex=True)\n",
    "total['정산금액'] = total['정산금액'].astype(float)\n",
    "# total = total.fillna('')\n",
    "# total['우편번호'] = pd.to_numeric(total['우편번호'])\n",
    "# total['우편번호'] = total['우편번호'].astype(str)\n",
    "# total['우편번호'] = total.우편번호.replace({'.0':''}, regex=True)\n",
    "total['년도'] = total['결제날짜'].dt.year\n",
    "total['월'] = total['결제날짜'].dt.month\n",
    "total['상품고유코드'] = total['영문명'] + '-' + total['상품코드']\n",
    "total['관리메모1'] = total['판매채널']\n",
    "total['배송방식'] = '택배'\n",
    "total['주소2'] = ''\n",
    "\n",
    "nosnos = total.loc[(total['결제날짜'] >= 시작시간) & (total['결제날짜'] < 마감시간)]\n",
    "nosnos_final = nosnos[['결제날짜','상품고유코드','판매상품명','수량','배송방식','주문자','받는분','전화번호1','전화번호2','우편번호','주소1','주소2','배송메세지','주문번호','관리메모1']]\n",
    "nosnos_final_order = nosnos_final.sort_values('결제날짜')\n",
    "nosnos_final_order['주문번호'] = nosnos_final_order['주문번호'].astype(str)\n",
    "nosnos_final_order['우편번호'] = nosnos_final_order['우편번호'].astype(int)\n",
    "nosnos_final_order['우편번호'] = nosnos_final_order['우편번호'].astype(str)\n",
    "nosnos_final_order['우편번호'] = nosnos_final_order['우편번호'].str.zfill(5)\n",
    "nosnos_final_order = nosnos_final_order[['결제날짜','상품고유코드','판매상품명','수량','배송방식','주문자','받는분','전화번호1','전화번호2','우편번호','주소1','주소2','배송메세지','주문번호','관리메모1']]\n",
    "\n",
    "채널별_정산 = total.groupby(['월','판매채널'])['총주문금액','정산금액'].apply(lambda x : x.astype(float).sum())\n",
    "\n",
    "채널별_판매수량 = total.groupby(['월','판매채널','상품코드'])['수량'].apply(lambda x : x.astype(int).sum()).to_frame()\n",
    "\n",
    "total.to_excel(\"base_file.xlsx\")\n",
    "nosnos_final_order.to_excel(\"택배사_양식.xlsx\")\n",
    "# 채널별_정산.to_excel('채널별_정산_221116.xlsx')\n",
    "# 채널별_판매수량.to_excel(\"채널별_판매수량_221116.xlsx\")"
   ]
  }
 ],
 "metadata": {
  "kernelspec": {
   "display_name": "Python 3 (ipykernel)",
   "language": "python",
   "name": "python3"
  },
  "language_info": {
   "codemirror_mode": {
    "name": "ipython",
    "version": 3
   },
   "file_extension": ".py",
   "mimetype": "text/x-python",
   "name": "python",
   "nbconvert_exporter": "python",
   "pygments_lexer": "ipython3",
   "version": "3.9.12"
  }
 },
 "nbformat": 4,
 "nbformat_minor": 5
}
